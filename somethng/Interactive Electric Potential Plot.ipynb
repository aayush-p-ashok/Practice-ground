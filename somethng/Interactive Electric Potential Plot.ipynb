{
 "cells": [
  {
   "cell_type": "code",
   "execution_count": 1,
   "id": "d304bf52-57ce-405d-a958-2652a148e9b7",
   "metadata": {},
   "outputs": [
    {
     "data": {
      "application/vnd.jupyter.widget-view+json": {
       "model_id": "0833d120638d49feae47c532cd3e2c9f",
       "version_major": 2,
       "version_minor": 0
      },
      "text/plain": [
       "interactive(children=(IntSlider(value=25, description='elev', max=90, min=-90, step=5), IntSlider(value=45, de…"
      ]
     },
     "metadata": {},
     "output_type": "display_data"
    }
   ],
   "source": [
    "import numpy as np\n",
    "import matplotlib.pyplot as plt\n",
    "from ipywidgets import interactive,FloatSlider,IntSlider\n",
    "from IPython.display import display\n",
    "\n",
    "def potential_plot(elev,azim,q1,q2,x1,y1,x2,y2):\n",
    "    def potential(q, x, y, x0, y0):\n",
    "        k = 9e9\n",
    "        r = np.sqrt((x - x0) ** 2 + (y - y0) ** 2 + 1e-9)  # The extra number added is to avoid zero division error\n",
    "        return k * q / r\n",
    "\n",
    "    # Creating 2D grid\n",
    "    X = np.linspace(-5, 5, 100)\n",
    "    Y = np.linspace(-5, 5, 100)\n",
    "    x, y = np.meshgrid(X, Y)\n",
    "\n",
    "    V1 = potential(q1, x, y, x1, y1)\n",
    "    V2 = potential(q2, x, y, x2, y2)\n",
    "    Vnet = V1 + V2\n",
    "\n",
    "    # Plot 3D\n",
    "    plt.rcParams['figure.figsize'] = [15, 12]  # Increased figure size\n",
    "    fig = plt.figure()\n",
    "    ax = fig.add_subplot(111, projection='3d')\n",
    "\n",
    "    plt.subplots_adjust(left=0, right=1, bottom=0, top=1)\n",
    "\n",
    "    # Plot the surface with colormap 'viridis'\n",
    "    surf = ax.plot_surface(x, y, Vnet, cmap='magma', edgecolor='none',\n",
    "                           antialiased=True,  # Smooth edges\n",
    "                           rcount=100,  # Resampling for smoother look\n",
    "                           ccount=100,  # Resampling for smoother look\n",
    "                           alpha=0.9)\n",
    "\n",
    "    # Add a zero potential contour\n",
    "    # Calculating z-cordinate for zero potential\n",
    "    zero_levels = ax.contour(x, y, Vnet, levels=[0],\n",
    "                             colors='green', linewidths=2,\n",
    "                             zdir='z', offset=Vnet.min())\n",
    "\n",
    "    # Plot the actual 3D contour where potential is zero\n",
    "    ax.contour3D(x, y, Vnet, levels=[0],\n",
    "                 colors='#00FFFF', linewidths=2)\n",
    "\n",
    "    # Add a color bar with adjusted position\n",
    "    cbar = fig.colorbar(surf, ax=ax, shrink=0.7, aspect=10, pad=0.1, label='Potential V')\n",
    "\n",
    "    # Set labels with adjusted padding\n",
    "    ax.set_xlabel('x', labelpad=10)\n",
    "    ax.set_ylabel('y', labelpad=10)\n",
    "    ax.set_zlabel('Potential V', labelpad=10)\n",
    "    ax.set_title('3D Potential Due to Two Charges', pad=20, y=1.05)\n",
    "\n",
    "    # Adjust the viewing angle and distance\n",
    "    ax.view_init(elev=elev, azim=azim)  # Adjust viewing angle(polar and azimuthal angles)\n",
    "    ax.dist = 8  # Adjust camera distance (lower number = closer)\n",
    "\n",
    "    # Make axis limits slightly larger than data range\n",
    "    ax.set_box_aspect([1, 1, 0.8])  # Adjust the box aspect ratio\n",
    "\n",
    "    # Optional: If you want to adjust axis limits\n",
    "    ax.set_xlim(-6, 6)\n",
    "    ax.set_ylim(-6, 6)\n",
    "    # ax.set_zlim(Vnet.min(), Vnet.max())\n",
    "\n",
    "    plt.show()\n",
    "\n",
    "# Create interactive sliders\n",
    "interactive_plot = interactive(potential_plot,\n",
    "                             elev=IntSlider(min=-90, max=90, step=5, value=25),\n",
    "                             azim=IntSlider(min=0, max=360, step=5, value=45),\n",
    "                             q1=FloatSlider(min=-5, max=5, step=0.1, value=1, description='q1'),\n",
    "                             q2=FloatSlider(min=-5, max=5, step=0.1, value=-2, description='q2'),\n",
    "                             x1=FloatSlider(min=-5, max=5, step=0.1, value=0, description='x1'),\n",
    "                             y1=FloatSlider(min=-5, max=5, step=0.1, value=0, description='y1'),\n",
    "                             x2=FloatSlider(min=-5, max=5, step=0.1, value=3, description='x2'),\n",
    "                             y2=FloatSlider(min=-5, max=5, step=0.1, value=0, description='y2'))\n",
    "display(interactive_plot)"
   ]
  },
  {
   "cell_type": "code",
   "execution_count": null,
   "id": "46f651ed-e06d-48d3-ba3c-1330f1cdbb3b",
   "metadata": {},
   "outputs": [],
   "source": []
  }
 ],
 "metadata": {
  "kernelspec": {
   "display_name": "Python 3 (ipykernel)",
   "language": "python",
   "name": "python3"
  },
  "language_info": {
   "codemirror_mode": {
    "name": "ipython",
    "version": 3
   },
   "file_extension": ".py",
   "mimetype": "text/x-python",
   "name": "python",
   "nbconvert_exporter": "python",
   "pygments_lexer": "ipython3",
   "version": "3.12.3"
  }
 },
 "nbformat": 4,
 "nbformat_minor": 5
}

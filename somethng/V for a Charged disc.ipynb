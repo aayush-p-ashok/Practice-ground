{
 "cells": [
  {
   "cell_type": "markdown",
   "id": "9991cb5f-ce49-4209-a84b-1d81da97a954",
   "metadata": {},
   "source": [
    "Create a potential plot for a charged disc."
   ]
  },
  {
   "cell_type": "code",
   "execution_count": 1,
   "id": "e9e1f2bc-c75f-4ea3-bb07-6614a451aae3",
   "metadata": {},
   "outputs": [
    {
     "data": {
      "text/plain": [
       "<Figure size 1500x1200 with 0 Axes>"
      ]
     },
     "metadata": {},
     "output_type": "display_data"
    },
    {
     "data": {
      "application/vnd.jupyter.widget-view+json": {
       "model_id": "27698e77383c4171945be1d177bff6b2",
       "version_major": 2,
       "version_minor": 0
      },
      "text/plain": [
       "interactive(children=(IntSlider(value=25, description='elev', max=90, min=-90, step=5), IntSlider(value=45, de…"
      ]
     },
     "metadata": {},
     "output_type": "display_data"
    }
   ],
   "source": [
    "import numpy as np\n",
    "import matplotlib.pyplot as plt\n",
    "from mpl_toolkits.mplot3d import Axes3D  # This import is necessary for 3D plots\n",
    "from scipy.integrate import dblquad\n",
    "from ipywidgets import interactive, FloatSlider, IntSlider\n",
    "from IPython.display import display\n",
    "from functools import lru_cache\n",
    "import time\n",
    "\n",
    "class PotentialCalculator:\n",
    "    def __init__(self):\n",
    "        self.k = 9e9\n",
    "        self.epsilon = 1e-10\n",
    "        self.cached_potential = None\n",
    "        self.cached_params = None\n",
    "        \n",
    "    @lru_cache(maxsize=1000)\n",
    "    def single_point_potential_cached(self, q, a, x, y):\n",
    "        \"\"\"Cached version of single point potential calculation\"\"\"\n",
    "        sigma = q/a\n",
    "        x_range = np.sqrt(a/np.pi)\n",
    "        \n",
    "        integrand = lambda x_prime, y_prime: sigma/np.sqrt((x-x_prime)**2 + (y-y_prime)**2 + self.epsilon)\n",
    "        V, _ = dblquad(integrand, -x_range, x_range,\n",
    "                       lambda x: -x_range,\n",
    "                       lambda x: x_range)\n",
    "        return self.k * V\n",
    "\n",
    "    def calculate_potential_grid(self, q, a, x, y):\n",
    "        \"\"\"Calculate potential for entire grid\"\"\"\n",
    "        if self.cached_params == (q, a) and self.cached_potential is not None:\n",
    "            return self.cached_potential\n",
    "        \n",
    "        V = np.zeros_like(x)\n",
    "        print(\"Calculating new potential grid...\")  # Debug print\n",
    "        for i in range(x.shape[0]):\n",
    "            for j in range(x.shape[1]):\n",
    "                V[i,j] = self.single_point_potential_cached(q, a, float(x[i,j]), float(y[i,j]))\n",
    "            if i % 10 == 0:  # Progress indicator\n",
    "                print(f\"Progress: {i}/{x.shape[0]} rows\")\n",
    "        \n",
    "        self.cached_potential = V\n",
    "        self.cached_params = (q, a)\n",
    "        return V\n",
    "\n",
    "# Create calculator instance\n",
    "calculator = PotentialCalculator()\n",
    "\n",
    "# Generate grid once\n",
    "X = np.linspace(-5, 5, 50)  # Using 30x30 grid for testing\n",
    "Y = np.linspace(-5, 5, 50)\n",
    "x, y = np.meshgrid(X, Y)\n",
    "\n",
    "def potential_plot(elev, azim, q, a):\n",
    "    start_time = time.time()\n",
    "    \n",
    "    # Calculate potential\n",
    "    Vnet = calculator.calculate_potential_grid(q, a, x, y)\n",
    "    \n",
    "    # Clear the current figure\n",
    "    plt.clf()\n",
    "    \n",
    "    # Create new 3D axes - fixed version\n",
    "    fig = plt.gcf()\n",
    "    ax = fig.add_subplot(111, projection='3d')\n",
    "    \n",
    "    # Create the surface plot\n",
    "    surf = ax.plot_surface(x, y, Vnet, cmap='magma', edgecolor='none')\n",
    "    \n",
    "    # Set the view and style\n",
    "    ax.view_init(elev=elev, azim=azim)\n",
    "    ax.dist = 8\n",
    "    ax.set_box_aspect([1, 1, 0.8])\n",
    "    ax.set_xlim(-6, 6)\n",
    "    ax.set_ylim(-6, 6)\n",
    "    \n",
    "    # Labels and title\n",
    "    ax.set_xlabel('x')\n",
    "    ax.set_ylabel('y')\n",
    "    ax.set_zlabel('Potential (V)')\n",
    "    \n",
    "    duration = time.time() - start_time\n",
    "    ax.set_title(f'3D Potential (Computation time: {duration:.2f}s)', pad=20, y=1.05)\n",
    "    \n",
    "    print(f\"Plot updated in {duration:.2f} seconds\")\n",
    "    \n",
    "    plt.draw()\n",
    "\n",
    "# Create figure with specific size\n",
    "plt.figure(figsize=(15, 12))\n",
    "\n",
    "# Create interactive widget\n",
    "interactive_plot = interactive(\n",
    "    potential_plot,\n",
    "    elev=IntSlider(min=-90, max=90, step=5, value=25),\n",
    "    azim=IntSlider(min=0, max=360, step=5, value=45),\n",
    "    q=FloatSlider(min=-5, max=5, step=0.1, value=1, description='q'),\n",
    "    a=FloatSlider(min=0.1, max=10, step=0.1, value=1, description='a')\n",
    ")\n",
    "\n",
    "# Display the interactive plot\n",
    "display(interactive_plot)"
   ]
  },
  {
   "cell_type": "code",
   "execution_count": null,
   "id": "1ac69604-3237-435c-9885-a7a37de7d20e",
   "metadata": {},
   "outputs": [],
   "source": []
  }
 ],
 "metadata": {
  "kernelspec": {
   "display_name": "Python 3 (ipykernel)",
   "language": "python",
   "name": "python3"
  },
  "language_info": {
   "codemirror_mode": {
    "name": "ipython",
    "version": 3
   },
   "file_extension": ".py",
   "mimetype": "text/x-python",
   "name": "python",
   "nbconvert_exporter": "python",
   "pygments_lexer": "ipython3",
   "version": "3.12.3"
  }
 },
 "nbformat": 4,
 "nbformat_minor": 5
}
